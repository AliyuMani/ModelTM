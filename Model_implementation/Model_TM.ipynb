{
 "cells": [
  {
   "cell_type": "code",
   "execution_count": 1,
   "metadata": {},
   "outputs": [],
   "source": [
    "#Import packages\n",
    "import sys\n",
    "try:\n",
    "    import docplex.mp\n",
    "except:\n",
    "    raise Exception('Please install docplex. See https://pypi.org/project/docplex/')\n",
    "    \n",
    "from Routing_data import *\n",
    "import pandas as pd\n",
    "import ast \n",
    "import numpy as np"
   ]
  },
  {
   "cell_type": "code",
   "execution_count": 2,
   "metadata": {},
   "outputs": [],
   "source": [
    "#Define parameters of experiment\n",
    "\n",
    "#Rescheduling period [tw1, tw2] for this problem, tw1 = 1:00 am and tw2 = 3:00am. \n",
    "#We convert all times to minutes\n",
    "tw1 = 60.0\n",
    "tw2 = 180.0\n",
    "\n",
    "#Defines the data sheet (sheet number in train timetable)\n",
    "scenario_counter = 5\n",
    "\n",
    "#reads in train timetable data\n",
    "data = pd.read_excel('TPP_data.xls', scenario_counter) \n",
    "\n",
    "#Big M\n",
    "M = 1000000\n",
    "\n",
    "#Safety Headway time (in min)\n",
    "Hsp = 2\n"
   ]
  },
  {
   "cell_type": "code",
   "execution_count": 3,
   "metadata": {},
   "outputs": [],
   "source": [
    "edges_list = []\n",
    "for route in R_in + R_out:\n",
    "    for edge in route:\n",
    "        edges_list.append(edge)\n",
    "        \n",
    "R_in_pairs = [[i,j] for i in R_in for j in R_in]\n",
    "R_out_pairs = [[i,j] for i in R_out for j in R_out]"
   ]
  },
  {
   "cell_type": "code",
   "execution_count": 4,
   "metadata": {},
   "outputs": [],
   "source": [
    "#set of nodes, V\n",
    "V = list(range(106))\n",
    "V = V[1:]\n",
    "\n",
    "#set of trains arriving to station within tw1 and tw2\n",
    "Ih = [data['车次'][i] for i in range(0, len(data['车次'])) if tw1 <= data['Adjusted A (min)'][i] <= tw2]\n",
    "Ih_pairs = [[i,j] for i in Ih for j in Ih if i != j]\n",
    "\n",
    "#set of trains whose departure time from the station is later than tw2\n",
    "Ir = [data['车次'][i] for i in range(0, len(data['车次'])) if tw1 <= data['Adjusted A (min)'][i] <= tw2 and data['D(min)'][i] > tw2]\n",
    "\n",
    "#set of trains occupying platforms at tw1\n",
    "Ip = [data['车次'][i] for i in range(0, len(data['车次'])) if data['Adjusted A (min)'][i] < tw1 < data['D(min)'][i] and data['A(min)'][i] != 0]\n",
    "\n",
    "#set of all trains that will visit the station [tw1,tw2] \n",
    "I = Ip + Ih\n",
    "\n",
    "#set of approach directions\n",
    "H = [data['Entering from'][i] for i in range (0, len(data['Entering from'])) if data['D(min)'][i] >= tw1 and data['Adjusted A (min)'][i] <= tw2 and data['A(min)'][i] != 0]\n",
    "\n",
    "#set of departure directions\n",
    "G = [data['Exiting from'][i] for i in range (0, len(data['Entering from'])) if data['D(min)'][i] >= tw1 and data['Adjusted A (min)'][i] <= tw2 and data['A(min)'][i] != 0]\n",
    "\n",
    "#Dict of trains and their approach directions\n",
    "train_home = {train: home_signal for train, home_signal in zip(I, H)}\n",
    "\n",
    "#Dict of trains and their departure directions\n",
    "train_exit = {train: exit for train, exit in zip(I, G)}\n",
    "\n",
    "#Arrival times of trains\n",
    "Arvtime = [round(data['Adjusted A (min)'][i]) for i in range(0, len(data['车次'])) if tw1 <= data['Adjusted A (min)'][i] <= tw2]\n",
    "At = {train:arrivaltime for train, arrivaltime in zip(Ih, Arvtime)}\n",
    "for train in Ip:\n",
    "    At.update({train: tw1})\n",
    "\n",
    "#Scheduled departure time of trains\n",
    "Scheduled_departure = [data['D(min)'][i] for i in range(0, len(data['车次'])) if tw1 <= data['Adjusted A (min)'][i] <= tw2]\n",
    "Dt = {train:departuretime for train, departuretime in zip(Ih, Scheduled_departure)}\n",
    "\n",
    "#set of platforms in the station\n",
    "A = ['P1', 'P2', 'P3', 'P4', 'P5', 'P6', 'P7', 'P8', 'P9', 'P10', 'P11', 'P12', 'P13', 'Dummy']\n",
    "\n",
    "#Original platform allocation in previous assignment\n",
    "O_platform = [data['股道/Platform track'][i] for i in range (0, len(data['股道/Platform track'])) if data['D(min)'][i] >= tw1 and data['Adjusted A (min)'][i] <= tw2 and data['A(min)'][i] != 0]\n",
    "Op = {train: platform for train, platform in zip(I, O_platform)}\n",
    "\n",
    "#set of platforms occupied by trains in set Ip\n",
    "B = [data['股道/Platform track'][i] for i in range(0, len(data['车次'])) if data['Adjusted A (min)'][i] < tw1 < data['D(min)'][i] and data['A(min)'][i] != 0]\n",
    "\n",
    "#release time associated with platform k\n",
    "rx = [round(data['D(min)'][i]) for i in range(0, len(data['车次'])) if data['Adjusted A (min)'][i] < tw1 < data['D(min)'][i] and data['A(min)'][i] != 0]\n",
    "release_time = []\n",
    "for time in rx:\n",
    "    release_time.append(time - tw1)    \n",
    "rt = {platform:r for platform, r in zip (B, release_time)}\n",
    "\n",
    "\n",
    "#Dwell time of trains at platforms\n",
    "dt = [round(data['Dwell time (mins)'][i]) for i in range(0, len(data['车次'])) if tw1 <= data['Adjusted A (min)'][i] <= tw2]\n",
    "dwell_time = {train: dwelltime for train, dwelltime in zip(Ih, dt)}\n",
    "train_platform_release = {train:release for train, release in zip(Ip, release_time)}\n",
    "dwell_time.update(train_platform_release)\n",
    "\n",
    "#Allowable waiting time for trains at home signal (in this experiment, a uniform maximum waiting time of 3 mins is\n",
    "#assigned to each train)\n",
    "waiting_time = [3.0 for i in range(len(Ih))]\n",
    "wt = {train:waitingtime for train, waitingtime in zip (Ih, waiting_time)}\n",
    "for train in Ip:\n",
    "    wt.update({train: 0})"
   ]
  },
  {
   "cell_type": "code",
   "execution_count": 5,
   "metadata": {},
   "outputs": [],
   "source": [
    "#Reading PM tasks data\n",
    "\n",
    "PMTdata = pd.read_excel('Maintenance_tasks.xlsx', 'PMT')\n",
    "\n",
    "PM_tasks_list = [PMTdata['Maintenance task'][i] for i in range (0, len(PMTdata['Maintenance task'])) if tw1 <= PMTdata['Start time (min)'][i] <= tw2 or tw1 <= PMTdata['End time (min)'][i] <= tw2]\n",
    "Ipm_list = [PMTdata['Start time (min)'][i] for i in range (0, len(PMTdata['Maintenance task'])) if tw1 <= PMTdata['Start time (min)'][i] <= tw2 or tw1 <= PMTdata['End time (min)'][i] <= tw2]\n",
    "Fpm_list = [PMTdata['End time (min)'][i] for i in range (0, len(PMTdata['Maintenance task'])) if tw1 <= PMTdata['Start time (min)'][i] <= tw2 or tw1 <= PMTdata['End time (min)'][i] <= tw2]\n",
    "Throat_edges = [PMTdata['Maintenance edges'][i] for i in range (0, len(PMTdata['Maintenance task'])) if tw1 <= PMTdata['Start time (min)'][i] <= tw2 or tw1 <= PMTdata['End time (min)'][i] <= tw2]\n",
    "PM_tasks = {task:edges for (task, edges) in zip(PM_tasks_list, (eval(edge) for edge in Throat_edges))}\n",
    "Ipm = {task:starts for (task, starts) in zip(PM_tasks_list, Ipm_list)}\n",
    "Fpm = {task:ends for (task, ends) in zip(PM_tasks_list, Fpm_list)}\n",
    "PM_edges = [eval(edge) for edge in Throat_edges]"
   ]
  },
  {
   "cell_type": "code",
   "execution_count": 5,
   "metadata": {},
   "outputs": [
    {
     "ename": "KeyboardInterrupt",
     "evalue": "",
     "output_type": "error",
     "traceback": [
      "\u001b[1;31m---------------------------------------------------------------------------\u001b[0m",
      "\u001b[1;31mKeyboardInterrupt\u001b[0m                         Traceback (most recent call last)",
      "\u001b[1;32m~\\Anaconda3\\lib\\site-packages\\IPython\\core\\async_helpers.py\u001b[0m in \u001b[0;36m_pseudo_sync_runner\u001b[1;34m(coro)\u001b[0m\n\u001b[0;32m     66\u001b[0m     \"\"\"\n\u001b[0;32m     67\u001b[0m     \u001b[1;32mtry\u001b[0m\u001b[1;33m:\u001b[0m\u001b[1;33m\u001b[0m\u001b[1;33m\u001b[0m\u001b[0m\n\u001b[1;32m---> 68\u001b[1;33m         \u001b[0mcoro\u001b[0m\u001b[1;33m.\u001b[0m\u001b[0msend\u001b[0m\u001b[1;33m(\u001b[0m\u001b[1;32mNone\u001b[0m\u001b[1;33m)\u001b[0m\u001b[1;33m\u001b[0m\u001b[1;33m\u001b[0m\u001b[0m\n\u001b[0m\u001b[0;32m     69\u001b[0m     \u001b[1;32mexcept\u001b[0m \u001b[0mStopIteration\u001b[0m \u001b[1;32mas\u001b[0m \u001b[0mexc\u001b[0m\u001b[1;33m:\u001b[0m\u001b[1;33m\u001b[0m\u001b[1;33m\u001b[0m\u001b[0m\n\u001b[0;32m     70\u001b[0m         \u001b[1;32mreturn\u001b[0m \u001b[0mexc\u001b[0m\u001b[1;33m.\u001b[0m\u001b[0mvalue\u001b[0m\u001b[1;33m\u001b[0m\u001b[1;33m\u001b[0m\u001b[0m\n",
      "\u001b[1;32m~\\Anaconda3\\lib\\site-packages\\IPython\\core\\interactiveshell.py\u001b[0m in \u001b[0;36mrun_cell_async\u001b[1;34m(self, raw_cell, store_history, silent, shell_futures)\u001b[0m\n\u001b[0;32m   2981\u001b[0m         \u001b[1;32mif\u001b[0m \u001b[0mstore_history\u001b[0m\u001b[1;33m:\u001b[0m\u001b[1;33m\u001b[0m\u001b[1;33m\u001b[0m\u001b[0m\n\u001b[0;32m   2982\u001b[0m             self.history_manager.store_inputs(self.execution_count,\n\u001b[1;32m-> 2983\u001b[1;33m                                               cell, raw_cell)\n\u001b[0m\u001b[0;32m   2984\u001b[0m         \u001b[1;32mif\u001b[0m \u001b[1;32mnot\u001b[0m \u001b[0msilent\u001b[0m\u001b[1;33m:\u001b[0m\u001b[1;33m\u001b[0m\u001b[1;33m\u001b[0m\u001b[0m\n\u001b[0;32m   2985\u001b[0m             \u001b[0mself\u001b[0m\u001b[1;33m.\u001b[0m\u001b[0mlogger\u001b[0m\u001b[1;33m.\u001b[0m\u001b[0mlog\u001b[0m\u001b[1;33m(\u001b[0m\u001b[0mcell\u001b[0m\u001b[1;33m,\u001b[0m \u001b[0mraw_cell\u001b[0m\u001b[1;33m)\u001b[0m\u001b[1;33m\u001b[0m\u001b[1;33m\u001b[0m\u001b[0m\n",
      "\u001b[1;32m~\\Anaconda3\\lib\\site-packages\\IPython\\core\\history.py\u001b[0m in \u001b[0;36mstore_inputs\u001b[1;34m(self, line_num, source, source_raw)\u001b[0m\n\u001b[0;32m    717\u001b[0m         \u001b[0mself\u001b[0m\u001b[1;33m.\u001b[0m\u001b[0minput_hist_raw\u001b[0m\u001b[1;33m.\u001b[0m\u001b[0mappend\u001b[0m\u001b[1;33m(\u001b[0m\u001b[0msource_raw\u001b[0m\u001b[1;33m)\u001b[0m\u001b[1;33m\u001b[0m\u001b[1;33m\u001b[0m\u001b[0m\n\u001b[0;32m    718\u001b[0m \u001b[1;33m\u001b[0m\u001b[0m\n\u001b[1;32m--> 719\u001b[1;33m         \u001b[1;32mwith\u001b[0m \u001b[0mself\u001b[0m\u001b[1;33m.\u001b[0m\u001b[0mdb_input_cache_lock\u001b[0m\u001b[1;33m:\u001b[0m\u001b[1;33m\u001b[0m\u001b[1;33m\u001b[0m\u001b[0m\n\u001b[0m\u001b[0;32m    720\u001b[0m             \u001b[0mself\u001b[0m\u001b[1;33m.\u001b[0m\u001b[0mdb_input_cache\u001b[0m\u001b[1;33m.\u001b[0m\u001b[0mappend\u001b[0m\u001b[1;33m(\u001b[0m\u001b[1;33m(\u001b[0m\u001b[0mline_num\u001b[0m\u001b[1;33m,\u001b[0m \u001b[0msource\u001b[0m\u001b[1;33m,\u001b[0m \u001b[0msource_raw\u001b[0m\u001b[1;33m)\u001b[0m\u001b[1;33m)\u001b[0m\u001b[1;33m\u001b[0m\u001b[1;33m\u001b[0m\u001b[0m\n\u001b[0;32m    721\u001b[0m             \u001b[1;31m# Trigger to flush cache and write to DB.\u001b[0m\u001b[1;33m\u001b[0m\u001b[1;33m\u001b[0m\u001b[1;33m\u001b[0m\u001b[0m\n",
      "\u001b[1;31mKeyboardInterrupt\u001b[0m: "
     ]
    }
   ],
   "source": [
    "#Corrective maintenance tasks along station throat\n",
    "\n",
    "CMTdata1 = pd.read_excel('Maintenance_tasks.xlsx', 'CMT(throat)')\n",
    "\n",
    "CM_tasks_list = [CMTdata1['Maintenance task'][i] for i in range (0, len(CMTdata1['Maintenance task']))]\n",
    "Platform_edges = [CMTdata1['Maintenance edges'][i] for i in range (0, len(CMTdata1['Maintenance task']))]\n",
    "Duration1 = [CMTdata1['Duration (min)'][i] for i in range (0, len(CMTdata1['Maintenance task']))]\n",
    "CM_tasks = {task:edges for (task, edges) in zip(CM_tasks_list, (eval(edge) for edge in Platform_edges))}\n",
    "CM_edges = [eval(edge) for edge in Platform_edges]\n",
    "Tm = {task: duration for (task, duration) in zip(CM_tasks_list, Duration1)}"
   ]
  },
  {
   "cell_type": "code",
   "execution_count": null,
   "metadata": {},
   "outputs": [],
   "source": [
    "B"
   ]
  },
  {
   "cell_type": "code",
   "execution_count": null,
   "metadata": {},
   "outputs": [],
   "source": [
    "#Corrective maintenance tasks along platform track\n",
    "\n",
    "CMTdata2 = pd.read_excel('Maintenance_tasks.xlsx', 'CMT(platform)')\n",
    "\n",
    "CM_tasks_list = [CMTdata2['Maintenance task'][i] for i in range (0, len(CMTdata2['Maintenance task']))]\n",
    "Duration2 = [CMTdata2['Duration (min)'][i] for i in range (0, len(CMTdata2['Maintenance task']))]\n",
    "Platform_track = [CMTdata2['Platform track'][i] for i in range (0, len(CMTdata2['Maintenance task']))]\n",
    "CM_platform = {platform: duration for (platform, duration) in zip(Platform_track, Duration2)}\n",
    "for key in CM_platform:\n",
    "    train_home.update({key: \"CMtask\"})\n",
    "    train_exit.update({key: \"CMtask\"})\n",
    "    At.update({key: tw1})\n",
    "    rt.update({key:CM_platform[key]})\n",
    "    Op.update({key:key})\n",
    "    wt.update({key: 0})\n",
    "    dwell_time.update({key:CM_platform[key]})\n",
    "    Ip.append(key)\n",
    "    I.append(key)\n",
    "    B.append(key)"
   ]
  },
  {
   "cell_type": "code",
   "execution_count": null,
   "metadata": {},
   "outputs": [],
   "source": [
    "def first_node(route):\n",
    "    for edge in route:\n",
    "        for node in edge:\n",
    "            first = node[0]\n",
    "            break\n",
    "        break\n",
    "    return(first_node)\n",
    "\n",
    "def train_inroutes(train, platform):\n",
    "    candidate_routes = []\n",
    "    for route in R_in:\n",
    "        first = list(route[0])[0]\n",
    "        for edge in route:\n",
    "            last = edge[-1]\n",
    "            if first == train_home[train] and last == platform:\n",
    "                candidate_routes.append(route)\n",
    "    return(candidate_routes)\n",
    "\n",
    "def train_outroutes(train, platform):\n",
    "    candidate_routes = []\n",
    "    for route in R_out:\n",
    "        first = list(route[0])[0]\n",
    "        for edge in route:\n",
    "            last = edge[-1]\n",
    "            if first == platform and last == train_exit[train]:\n",
    "                candidate_routes.append(route)\n",
    "    return(candidate_routes)\n",
    "\n",
    "def not_train_outroutes(train, platform):\n",
    "    candidate_routes = []\n",
    "    for route in R_out:\n",
    "        if route not in train_outroutes(train, platform):\n",
    "                candidate_routes.append(route)\n",
    "    return(candidate_routes)\n",
    "\n",
    "def not_train_inroutes(train, platform):\n",
    "    candidate_routes = []\n",
    "    for route in R_in:\n",
    "        if route not in train_inroutes(train, platform):\n",
    "                candidate_routes.append(route)\n",
    "    return(candidate_routes)"
   ]
  },
  {
   "cell_type": "code",
   "execution_count": null,
   "metadata": {},
   "outputs": [],
   "source": [
    "#set of train routes affected by corrective maintenance tasks\n",
    "Rm_in = []\n",
    "for route in R_in:\n",
    "    for edge in route:\n",
    "        if edge in CM_edges:\n",
    "            Rm_in.append(route)\n",
    "Rm_out = []\n",
    "for route in R_out:\n",
    "    for edge in route:\n",
    "        if edge in CM_edges:\n",
    "            Rm_out.append(route)\n",
    "    \n",
    "#Duration of corrective maintenance tasks            \n",
    "def get_CMkey(edge):\n",
    "    for key in CM_tasks.keys():\n",
    "        if str(edge) in CM_tasks[key]:\n",
    "            return(key)\n",
    "def Mtime(route):\n",
    "    Required_time = 0\n",
    "    for edge in route:\n",
    "        if edge in CM_edges:\n",
    "            CM_label = get_CMkey(edge)\n",
    "            Required_time = Tm[CM_label]\n",
    "            return(Required_time)\n",
    "    return(Required_time)        "
   ]
  },
  {
   "cell_type": "code",
   "execution_count": null,
   "metadata": {},
   "outputs": [],
   "source": [
    "def get_PMkey(edge):\n",
    "    for key in PM_tasks.keys():\n",
    "        if str(edge) in PM_tasks[key]:\n",
    "            return(key)\n",
    "        \n",
    "#PM task start time\n",
    "def start(edge):\n",
    "    start_time = Ipm[get_PMkey(edge)]\n",
    "    return(start_time)\n",
    "\n",
    "#PM task end time\n",
    "def end(edge):\n",
    "    end_time = Fpm[get_PMkey(edge)]\n",
    "    return(end_time)\n",
    "\n",
    "\n",
    "#C_in value\n",
    "def C_in(train, inroute):\n",
    "    for edge in inroute:\n",
    "        if edge in PM_edges and start(edge) <= At[train] + wt[train] <= end(edge):\n",
    "            Cim = 1\n",
    "            break\n",
    "        else:\n",
    "            Cim = 0\n",
    "    return(Cim)\n",
    "    \n",
    "#C_out value\n",
    "def C_out(train, outroute):\n",
    "    for edge in outroute:\n",
    "        if edge in PM_edges and start(edge) <= At[train] + wt[train] + dwell_time[train] + Hsp <= end(edge):\n",
    "            Cim = 1\n",
    "            break\n",
    "        else:\n",
    "            Cim = 0\n",
    "    return(Cim)\n",
    "    \n",
    "#Cipm value\n",
    "def Cipm(train, platform):\n",
    "    if platform in PM_edges and start(platform) <= At[train] + wt[train] <= end(platform):\n",
    "        Cipm = 1\n",
    "        return(Cipm)\n",
    "    else:\n",
    "        Cipm = 0\n",
    "        return(Cipm)\n"
   ]
  },
  {
   "cell_type": "code",
   "execution_count": null,
   "metadata": {},
   "outputs": [],
   "source": [
    "#Crc value\n",
    "def Crc(train):\n",
    "    if train in Ir:\n",
    "        Crc = 10\n",
    "        return(Crc)\n",
    "    else:\n",
    "        Crc = 0\n",
    "        return(Crc)\n",
    "    \n",
    "#Cost of reassigning train i to platform p\n",
    "Cip = pd.read_excel('TPP_data.xls', 'PR costs')\n",
    "Cip.set_index('Original Assignment', inplace=True)"
   ]
  },
  {
   "cell_type": "code",
   "execution_count": null,
   "metadata": {},
   "outputs": [],
   "source": [
    "#Sets of train pairs used to filter conflict detection and resolution between trains \n",
    "X = [(i,j) for i in I for j in I if i != j and At[j]>=At[i]+wt[i]+dwell_time[i]+Hsp]\n",
    "\n",
    "Y = [(i,j) for i in I for j in I if i !=j and (At[i]+wt[i])<At[j]<(At[i]+wt[i]+dwell_time[i]+Hsp)]\n",
    "\n",
    "Z = [(i,j) for i in I for j in I if i!=j and (At[i]-wt[j])<=At[j]<=(At[i]+wt[i])]\n",
    "\n",
    "V = [(i,j) for i in I for j in I if i!=j and train_home[i] == train_home[j] and At[j]>At[i]]\n"
   ]
  },
  {
   "cell_type": "code",
   "execution_count": null,
   "metadata": {},
   "outputs": [],
   "source": [
    "from docplex.mp.model import Model\n",
    "\n",
    "#We name the model developed Model TM ('TM' for train and maintenance)\n",
    "mdl = Model(\"Model_TM\")"
   ]
  },
  {
   "cell_type": "code",
   "execution_count": null,
   "metadata": {},
   "outputs": [],
   "source": [
    "from docplex.mp.environment import Environment\n",
    "env = Environment()\n",
    "env.print_information()"
   ]
  },
  {
   "cell_type": "code",
   "execution_count": null,
   "metadata": {},
   "outputs": [],
   "source": [
    "#Decision variables in the optimization model\n",
    "\n",
    "#1. Arrival route variables\n",
    "Xin_vars = mdl.binary_var_matrix(I, R_in, 'Inroute')\n",
    "\n",
    "#2. Departure route variables\n",
    "Xout_vars = mdl.binary_var_matrix(I, R_out, 'Outroute')\n",
    "\n",
    "#3. Home-Platform variables\n",
    "P_vars = mdl.binary_var_matrix(I, A, 'PlatformAssigned')\n",
    "\n",
    "\n",
    "#4. Train's precedence on arrival at home signal\n",
    "Xij_vars = mdl.binary_var_matrix(I, I, 'InboundsPrecedence')\n",
    "\n",
    "#5. Shared platform by trains\n",
    "Pij_vars = mdl.binary_var_matrix(I, I, 'SharedPlatform')\n",
    "\n",
    "\n",
    "#6. departure time from home signal variable\n",
    "Dt_vars = mdl.continuous_var_dict(I, lb = tw1, name = 'DepartureTime([%s])')\n"
   ]
  },
  {
   "cell_type": "code",
   "execution_count": null,
   "metadata": {},
   "outputs": [],
   "source": [
    "#Objective function of the model\n",
    "#without Crc\n",
    "mdl.minimize(1*mdl.sum(Dt_vars[train] - At[train]for train in I) + 1*mdl.sum(P_vars[i, p] for i in I for p in A if p == 'Dummy') + 1*mdl.sum(Cip[Op[train]][platform]*P_vars[train, platform] for train in I for platform in A if platform != 'Dummy') + 1*mdl.sum(C_in(train, route)*Xin_vars[train, route] for train in I for route in R_in) + 1*mdl.sum(C_out(train, route)*Xout_vars[train, route] for train in I for route in R_out) + 1*mdl.sum(Cipm(train, platform)*P_vars[train, platform] for train in I for platform in A))"
   ]
  },
  {
   "cell_type": "code",
   "execution_count": null,
   "metadata": {},
   "outputs": [],
   "source": [
    "mdl.minimize(1*mdl.sum(Dt_vars[train] - At[train]for train in I) + 1*mdl.sum(P_vars[i, p] for i in I for p in A if p == 'Dummy') + 1*mdl.sum((Cip[Op[train]][platform]+Crc(train))*P_vars[train, platform] for train in I for platform in A if platform != 'Dummy') + 1*mdl.sum(C_in(train, route)*Xin_vars[train, route] for train in I for route in R_in) + 1*mdl.sum(C_out(train, route)*Xout_vars[train, route] for train in I for route in R_out) + 1*mdl.sum(Cipm(train, platform)*P_vars[train, platform] for train in I for platform in A))"
   ]
  },
  {
   "cell_type": "code",
   "execution_count": null,
   "metadata": {},
   "outputs": [],
   "source": [
    "#This constraint ensures only one platform is assigned to each train \n",
    "for train in I:\n",
    "    mdl.add_constraint(mdl.sum(P_vars[train, platform] for platform in A) == 1)"
   ]
  },
  {
   "cell_type": "code",
   "execution_count": null,
   "metadata": {},
   "outputs": [],
   "source": [
    "#This constraint ensures that trains already dwelling at platforms are assigned their dwelling platforms\n",
    "for train in I:\n",
    "    if train in Ip:\n",
    "        platform = Op[train]\n",
    "        mdl.add_constraint(P_vars[train, platform] == 1)"
   ]
  },
  {
   "cell_type": "code",
   "execution_count": null,
   "metadata": {},
   "outputs": [],
   "source": [
    "#This constraint ensures that if two trains are assigned same platform, the variable Pij equals 1\n",
    "for i in I:\n",
    "    for j in I:\n",
    "        for platform in A:\n",
    "            if i!=j:\n",
    "                mdl.add_if_then(P_vars[i, platform] + P_vars[j, platform] == 2, Pij_vars[i,j] == 1)"
   ]
  },
  {
   "cell_type": "code",
   "execution_count": null,
   "metadata": {},
   "outputs": [],
   "source": [
    "#This constraint ensures that if two trains are assigned different platforms, the variable Pij equals 0\n",
    "for i in I:\n",
    "    for j in I:\n",
    "        for platform in A:\n",
    "            if i!=j:\n",
    "                mdl.add_if_then(P_vars[i, platform] + P_vars[j, platform] == 1, Pij_vars[i,j] == 0)"
   ]
  },
  {
   "cell_type": "code",
   "execution_count": null,
   "metadata": {},
   "outputs": [],
   "source": [
    "#If train pair(i, j) are at same or different platforms, then train pair (j, i)\n",
    "#are also at same or different platform\n",
    "mdl.add_constraints(Pij_vars[i,j] == Pij_vars[j,i] for i in I for j in I if i != j)"
   ]
  },
  {
   "cell_type": "code",
   "execution_count": null,
   "metadata": {},
   "outputs": [],
   "source": [
    "#This constraint ensures that an inbound train is assigned a route that connects it to its assigned platform\n",
    "mdl.add_constraints(mdl.sum(Xin_vars[i,r] for r in train_inroutes(i,p)) == P_vars[i,p] for i in I for p in A if train_home[i] != 'CMtask')"
   ]
  },
  {
   "cell_type": "code",
   "execution_count": null,
   "metadata": {},
   "outputs": [],
   "source": [
    "#This ensures that an outbound train is assigned a route that connects it to its departure direction\n",
    "#from its assigned platform\n",
    "mdl.add_constraints(mdl.sum(Xout_vars[i,r] for r in train_outroutes(i,p)) == P_vars[i,p] for i in I for p in A if train_home[i] != 'CMtask')"
   ]
  },
  {
   "cell_type": "code",
   "execution_count": null,
   "metadata": {},
   "outputs": [],
   "source": [
    "#This ensures that each train is assigned only one inbound route and only one outbound route\n",
    "for train in I:\n",
    "    if train_home[i] != 'CMtask':\n",
    "        mdl.add_constraint(mdl.sum(Xin_vars[train, route] for route in R_in) ==1)\n",
    "        mdl.add_constraint(mdl.sum(Xout_vars[train, route] for route in R_out) ==1)"
   ]
  },
  {
   "cell_type": "code",
   "execution_count": null,
   "metadata": {},
   "outputs": [],
   "source": [
    "#This ensures that trains already in the station (at tw1) are not queued at the home signal\n",
    "mdl.add_constraints(Dt_vars[train] == tw1 for train in Ip)"
   ]
  },
  {
   "cell_type": "code",
   "execution_count": null,
   "metadata": {},
   "outputs": [],
   "source": [
    "#This ensures that trains coming to the station are not assigned platforms currently occupied by trains in set Ip\n",
    "mdl.add_constraints(Dt_vars[train] >= rt[platform]*P_vars[train, platform] for train in Ih for platform in B)"
   ]
  },
  {
   "cell_type": "code",
   "execution_count": null,
   "metadata": {},
   "outputs": [],
   "source": [
    "#Ensures that departure time of all trains is greater than or equal to their arrival times\n",
    "mdl.add_constraints(Dt_vars[train] >= At[train] for train in I)"
   ]
  },
  {
   "cell_type": "code",
   "execution_count": null,
   "metadata": {},
   "outputs": [],
   "source": [
    "#This introduces a conflict filter by exempting these train pairs from\n",
    "#departure precedence check by the optimization model\n",
    "for pair in V + X + Y:\n",
    "    i = pair[0]\n",
    "    j = pair[1]\n",
    "    mdl.add_constraint(Xij_vars[i,j] == 1)"
   ]
  },
  {
   "cell_type": "code",
   "execution_count": null,
   "metadata": {},
   "outputs": [],
   "source": [
    "#This ensures that for every train pair, exactly one train must depart before the other.\n",
    "for i in I:\n",
    "    for j in I:\n",
    "        if i != j:\n",
    "            mdl.add_constraint(Xij_vars[i, j] + Xij_vars[j, i] == 1)\n",
    "            "
   ]
  },
  {
   "cell_type": "code",
   "execution_count": null,
   "metadata": {},
   "outputs": [],
   "source": [
    "#This ensures that departure from home signal and platform assignment are conflict-free\n",
    "for pair in Y+Z:\n",
    "    i = pair[0]\n",
    "    j = pair[1]\n",
    "    if j not in Ip:\n",
    "        mdl.add_constraint(Dt_vars[j] >= Dt_vars[i] + (Hsp + dwell_time[i])*Pij_vars[i,j] - M*Xij_vars[j,i])"
   ]
  },
  {
   "cell_type": "code",
   "execution_count": null,
   "metadata": {},
   "outputs": [],
   "source": [
    "#This ensures that a train does not use a route under maintenance while coming into the station from home signal\n",
    "mdl.add_constraints(Dt_vars[train] <= At[train] + wt[train] + Xin_vars[train, route]*Mtime(route) for train in I for route in R_in if train_home[train] != 'CMtask')"
   ]
  },
  {
   "cell_type": "code",
   "execution_count": null,
   "metadata": {},
   "outputs": [],
   "source": [
    "#This ensure that a train does not use a route under maintenance while departing the station from platform\n",
    "mdl.add_constraints(Dt_vars[train] + Hsp + dwell_time[train] >= Xout_vars[train, route]*Mtime(route) for train in I for route in R_out if train_home[train] != 'CMtask')"
   ]
  },
  {
   "cell_type": "code",
   "execution_count": null,
   "metadata": {
    "scrolled": true
   },
   "outputs": [],
   "source": [
    "solution = mdl.solve(log_output=True)"
   ]
  },
  {
   "cell_type": "code",
   "execution_count": null,
   "metadata": {},
   "outputs": [],
   "source": [
    "mdl.print_information()"
   ]
  },
  {
   "cell_type": "code",
   "execution_count": null,
   "metadata": {},
   "outputs": [],
   "source": [
    "print(solution)"
   ]
  },
  {
   "cell_type": "code",
   "execution_count": null,
   "metadata": {},
   "outputs": [],
   "source": [
    "solve_details = mdl.get_solve_details()\n",
    "print(solve_details)"
   ]
  },
  {
   "cell_type": "code",
   "execution_count": null,
   "metadata": {},
   "outputs": [],
   "source": []
  }
 ],
 "metadata": {
  "kernelspec": {
   "display_name": "Python 3",
   "language": "python",
   "name": "python3"
  },
  "language_info": {
   "codemirror_mode": {
    "name": "ipython",
    "version": 3
   },
   "file_extension": ".py",
   "mimetype": "text/x-python",
   "name": "python",
   "nbconvert_exporter": "python",
   "pygments_lexer": "ipython3",
   "version": "3.7.4"
  }
 },
 "nbformat": 4,
 "nbformat_minor": 2
}
